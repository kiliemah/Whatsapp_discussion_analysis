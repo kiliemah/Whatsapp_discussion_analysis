{
 "cells": [
  {
   "cell_type": "markdown",
   "id": "0fe8b836",
   "metadata": {},
   "source": [
    "## Chargement des nouvelles données et du modèle"
   ]
  },
  {
   "cell_type": "code",
   "execution_count": 40,
   "id": "dd2ed2d1",
   "metadata": {},
   "outputs": [],
   "source": [
    "import keras\n",
    "import pandas as pd\n",
    "import numpy as np\n",
    "import matplotlib.pyplot as plt\n",
    "import copy\n",
    "import re\n",
    "import nltk\n",
    "from nltk.corpus import stopwords\n",
    "from nltk.tokenize import word_tokenize,sent_tokenize\n",
    "import string\n",
    "import warnings\n",
    "import gensim\n",
    "from gensim.models.word2vec import Word2Vec\n",
    "import os\n",
    "import sklearn\n",
    "from sklearn.model_selection import train_test_split\n",
    "from sklearn.feature_extraction.text import CountVectorizer \n",
    "from sklearn.model_selection import train_test_split\n",
    "from keras.preprocessing.text import Tokenizer\n",
    "from keras.preprocessing.sequence import pad_sequences\n",
    "\n",
    "from keras.models import Sequential \n",
    "from keras.layers import Dense, LSTM, Embedding,Bidirectional\n",
    "import tensorflow\n",
    "from tensorflow.compat.v1.keras.layers import CuDNNLSTM,CuDNNGRU\n",
    "from tensorflow.keras.layers import Dropout\n",
    "\n",
    "from tqdm.notebook import tqdm_notebook\n",
    "tqdm_notebook.pandas()\n",
    "import h5py\n",
    "from keras.models import load_model\n",
    "\n",
    "\n"
   ]
  },
  {
   "cell_type": "code",
   "execution_count": 21,
   "id": "2139816c",
   "metadata": {},
   "outputs": [],
   "source": [
    "# Definition des fonction de preprocessing\n",
    "### CONVERSION DES CHAINES EN MINUSCULE\n",
    "def lower_function(data):\n",
    "    i=0\n",
    "    for tweet in data:\n",
    "        data[i]=tweet.lower()\n",
    "        i+=1\n",
    "def deEmojify(text):\n",
    "    regrex_pattern = re.compile(pattern = \"[\"\n",
    "        u\"\\U0001F600-\\U0001F64F\"  # emoticons\n",
    "        u\"\\U0001F300-\\U0001F5FF\"  # symbols & pictographs\n",
    "        u\"\\U0001F680-\\U0001F6FF\"  # transport & map symbols\n",
    "        u\"\\U0001F1E0-\\U0001F1FF\"  # flags (iOS)\n",
    "        u\"\\U00002702-\\U000027B0\"\n",
    "        u\"\\U00002702-\\U000027B0\"\n",
    "        u\"\\U000024C2-\\U0001F251\"\n",
    "        u\"\\U0001f926-\\U0001f937\"\n",
    "        u\"\\U00010000-\\U0010ffff\"\n",
    "        u\"\\u2640-\\u2642\" \n",
    "        u\"\\u2600-\\u2B55\"\n",
    "        u\"\\u200d\"\n",
    "        u\"\\u23cf\"\n",
    "        u\"\\u23e9\"\n",
    "        u\"\\u231a\"\n",
    "        u\"\\ufe0f\"  # dingbats\n",
    "        u\"\\u3030\"\n",
    "                           \"]+\", flags = re.UNICODE)\n",
    "    return regrex_pattern.sub(r'',text)\n",
    " \n",
    "\n",
    "def strip_links(text):\n",
    "    link_regex    = re.compile('((https?):((//)|(\\\\\\\\))+([\\w\\d:#@%/;$()~_?\\+-=\\\\\\.&](#!)?)*)', re.DOTALL)\n",
    "    links         = re.findall(link_regex, text)\n",
    "    for link in links:\n",
    "        text = text.replace(link[0], ', ')\n",
    "    \n",
    "    text = text.replace(\"…\",' ')\n",
    "    text = text.replace(\"’\",\" \" )\n",
    "    text = text.replace(\"'\",\" \")\n",
    "\n",
    "    return text\n",
    "   \n",
    "def strip_all_entities(text):\n",
    "    #text=re.sub('[^A-Za-z0-9]+', ' ', text)\n",
    "    entity_prefixes = ['@','#',\"_\",\"'\",\"’\"]\n",
    "    for separator in  string.punctuation:\n",
    "        if separator not in entity_prefixes :\n",
    "            text = text.replace(separator,' ')\n",
    "    words = []\n",
    "    for word in text.split():\n",
    "        word = word.strip()\n",
    "        if word:\n",
    "            if word[0] not in entity_prefixes:\n",
    "                words.append(word)\n",
    "    return ' '.join(words)\n",
    "\n",
    "def special_caractere_delete(data):\n",
    "    i=0\n",
    "    for tweet in data:\n",
    "        data[i] = strip_all_entities(strip_links(tweet))\n",
    "        data[i] = deEmojify(data[i])\n",
    "        #tweet_df['tweet'][i] = re.sub(r'https?://\\S+|www\\.\\S+', '', text)\n",
    "        #tweet_df['tweet'][i]=re.sub('[^A-Za-z0-9]+', ' ', tweet)\n",
    "        i+=1\n",
    "\n",
    "def empty_word_delete(data):\n",
    "    \n",
    "    i=0\n",
    "    matrix=[]\n",
    "    for tweet in data:\n",
    "        matrix.append(word_tokenize(tweet))\n",
    "        \n",
    "    return matrix\n",
    "        \n",
    "def data_preprocessing(data):\n",
    "    lower_function(data)\n",
    "    special_caractere_delete(data)\n",
    "    return (data)\n",
    "\n",
    "# Il faut enregistrer les donnée de tokenisation au préalable dans un fichier csv , et le charger avant\n",
    "def Tokenization(data,num_word):\n",
    "    tokenizer=Tokenizer(num_word,lower=True)\n",
    "    tokenizer.fit_on_texts(data)\n",
    "    return (tokenizer)\n",
    "\n",
    "def load_train_data():\n",
    "    data=pd.read_csv(\"All_train_preprocessed.csv\")\n",
    "    data=data.drop([\"Unnamed: 0\"],axis=1)\n",
    "    data[\"text\"]=data[\"text\"].astype(\"str\")\n",
    "    return(data)\n",
    "    \n",
    "def load_whatsapp_conversation(file):\n",
    "    with open(file, encoding='utf8') as f:\n",
    "        lines = f.readlines()\n",
    "        #Supression du caractère spécial (‎)\n",
    "        i=0\n",
    "        for line in lines:\n",
    "            if \"‎\" in line:\n",
    "                lines[i] = lines[i].replace(\"‎\",\"\")\n",
    "            i=i+1\n",
    "        # Création d'un nouveau fichier temp, sans le caractère spécial\n",
    "        with open('temp.txt', 'w',encoding='utf8') as f_upgrade:\n",
    "            for item in lines:\n",
    "                f_upgrade.write(\"%s\" % item)\n",
    "            \n",
    "    date=[]\n",
    "    interlocuteur=[]\n",
    "    text=[]\n",
    "    \n",
    "    # Extraction des données\n",
    "    with open('temp.txt','r',encoding='utf8') as tf:\n",
    "        lines = tf.read().split('\\n[')\n",
    "\n",
    "    i=0\n",
    "    for line in lines:\n",
    "\n",
    "        split=re.split('] ', line.strip())\n",
    "        date.append(split[0])\n",
    "        final_split=re.split(': ', split[1])\n",
    "        interlocuteur.append(final_split[0])\n",
    "        text.append(final_split[1])\n",
    "\n",
    "        i=i+1\n",
    "    #Traitement de la date\n",
    "    for val in date: \n",
    "        if val[0]=='[':\n",
    "            val = val.replace(val[0],\"\")\n",
    "        \n",
    "    \n",
    "    #Constitustion du dataFrame des donnée extrait\n",
    "    dict={'date':date,'interlocuteur':interlocuteur,'text':text}\n",
    "    data=pd.DataFrame(dict)\n",
    "    return (data)"
   ]
  },
  {
   "cell_type": "code",
   "execution_count": 161,
   "id": "6f416d57",
   "metadata": {},
   "outputs": [],
   "source": [
    "liste={'Text':[\"Je vais te tuer, toi et toute ta famille\",\n",
    "              \"Soit tu m'envoie ce que je demande, soit je publie des photos de toi étant nue\",\n",
    "              \"Je promet de créer de la misère dans vie\",\n",
    "              \"Le jour, je te vois dans mon quartier, tu vas me connaitre\",\n",
    "               \"Salope !\",\n",
    "               \"Enfoiré, tu ferais mieux de la fermer\"\n",
    "              ]}\n",
    "new_data=pd.DataFrame(data=liste)\n",
    "data= load_train_data()\n",
    "model = load_model(\"model.h5\")\n"
   ]
  },
  {
   "cell_type": "code",
   "execution_count": 75,
   "id": "66a809b5",
   "metadata": {},
   "outputs": [],
   "source": [
    "num_word=10100"
   ]
  },
  {
   "cell_type": "markdown",
   "id": "58dbecc5",
   "metadata": {},
   "source": [
    "## Préprocessing et Tokenization"
   ]
  },
  {
   "cell_type": "code",
   "execution_count": 78,
   "id": "911a94a9",
   "metadata": {},
   "outputs": [],
   "source": [
    "tokenizer=Tokenization(data[\"text\"],num_word)\n",
    "sequences=tokenizer.texts_to_sequences(new_data[\"text\"])\n",
    "sequences_pad=pad_sequences(sequences,maxlen=200,padding='post')"
   ]
  },
  {
   "cell_type": "code",
   "execution_count": 79,
   "id": "08e5bda1",
   "metadata": {},
   "outputs": [
    {
     "data": {
      "text/plain": [
       "100561"
      ]
     },
     "execution_count": 79,
     "metadata": {},
     "output_type": "execute_result"
    }
   ],
   "source": [
    "len(tokenizer.word_index) "
   ]
  },
  {
   "cell_type": "markdown",
   "id": "b0afbe99",
   "metadata": {},
   "source": [
    "## Prédiction"
   ]
  },
  {
   "cell_type": "code",
   "execution_count": 80,
   "id": "fb943e68",
   "metadata": {},
   "outputs": [],
   "source": [
    "result = model.predict(sequences_pad)"
   ]
  },
  {
   "cell_type": "code",
   "execution_count": 81,
   "id": "e5a5515d",
   "metadata": {},
   "outputs": [
    {
     "data": {
      "text/plain": [
       "array([[0.558519  ],\n",
       "       [0.85209423],\n",
       "       [0.20897824],\n",
       "       [0.38722444],\n",
       "       [0.07824102],\n",
       "       [0.6501182 ],\n",
       "       [0.876222  ],\n",
       "       [0.15191376]], dtype=float32)"
      ]
     },
     "execution_count": 81,
     "metadata": {},
     "output_type": "execute_result"
    }
   ],
   "source": [
    "result"
   ]
  },
  {
   "cell_type": "markdown",
   "id": "71c75c12",
   "metadata": {},
   "source": [
    "## Visualisation"
   ]
  },
  {
   "cell_type": "code",
   "execution_count": 87,
   "id": "29099f78",
   "metadata": {},
   "outputs": [],
   "source": [
    "prediction=[]\n",
    "for pred in result:\n",
    "    for y in pred:\n",
    "        if y>0.6:\n",
    "            prediction.append(\"positif\")\n",
    "        elif y<0.4:\n",
    "            prediction.append(\"negatif\")\n",
    "        else:\n",
    "            prediction.append(\"neutre\")\n",
    "\n",
    "prediction_dict={'prediction':prediction}\n",
    "prediction_df=pd.DataFrame(prediction_dict)\n",
    "\n",
    "final_df=pd.concat([new_data,prediction_df],axis=1)\n",
    "      \n",
    "#index=range(prediction.len())"
   ]
  },
  {
   "cell_type": "code",
   "execution_count": 88,
   "id": "6247bac1",
   "metadata": {},
   "outputs": [
    {
     "data": {
      "text/html": [
       "<div>\n",
       "<style scoped>\n",
       "    .dataframe tbody tr th:only-of-type {\n",
       "        vertical-align: middle;\n",
       "    }\n",
       "\n",
       "    .dataframe tbody tr th {\n",
       "        vertical-align: top;\n",
       "    }\n",
       "\n",
       "    .dataframe thead th {\n",
       "        text-align: right;\n",
       "    }\n",
       "</style>\n",
       "<table border=\"1\" class=\"dataframe\">\n",
       "  <thead>\n",
       "    <tr style=\"text-align: right;\">\n",
       "      <th></th>\n",
       "      <th>text</th>\n",
       "      <th>prediction</th>\n",
       "    </tr>\n",
       "  </thead>\n",
       "  <tbody>\n",
       "    <tr>\n",
       "      <th>0</th>\n",
       "      <td>le 3 point de zouzoua franchement hein j ai sa...</td>\n",
       "      <td>neutre</td>\n",
       "    </tr>\n",
       "    <tr>\n",
       "      <th>1</th>\n",
       "      <td>la miss a perdu sa place</td>\n",
       "      <td>positif</td>\n",
       "    </tr>\n",
       "    <tr>\n",
       "      <th>2</th>\n",
       "      <td>olivia yacé va nous manquer deh</td>\n",
       "      <td>negatif</td>\n",
       "    </tr>\n",
       "    <tr>\n",
       "      <th>3</th>\n",
       "      <td>miss monde n a fait que sourire pandant toute ...</td>\n",
       "      <td>negatif</td>\n",
       "    </tr>\n",
       "    <tr>\n",
       "      <th>4</th>\n",
       "      <td>pourquoi bebi phillip était obligé de faire so...</td>\n",
       "      <td>negatif</td>\n",
       "    </tr>\n",
       "    <tr>\n",
       "      <th>5</th>\n",
       "      <td>la numéro 23 son visage on dirait boule de pét...</td>\n",
       "      <td>positif</td>\n",
       "    </tr>\n",
       "    <tr>\n",
       "      <th>6</th>\n",
       "      <td>j ai confiance en faridah</td>\n",
       "      <td>positif</td>\n",
       "    </tr>\n",
       "    <tr>\n",
       "      <th>7</th>\n",
       "      <td>j ai pas arreté de sourire quand je t ai vu</td>\n",
       "      <td>negatif</td>\n",
       "    </tr>\n",
       "  </tbody>\n",
       "</table>\n",
       "</div>"
      ],
      "text/plain": [
       "                                                text prediction\n",
       "0  le 3 point de zouzoua franchement hein j ai sa...     neutre\n",
       "1                           la miss a perdu sa place    positif\n",
       "2                    olivia yacé va nous manquer deh    negatif\n",
       "3  miss monde n a fait que sourire pandant toute ...    negatif\n",
       "4  pourquoi bebi phillip était obligé de faire so...    negatif\n",
       "5  la numéro 23 son visage on dirait boule de pét...    positif\n",
       "6                          j ai confiance en faridah    positif\n",
       "7        j ai pas arreté de sourire quand je t ai vu    negatif"
      ]
     },
     "execution_count": 88,
     "metadata": {},
     "output_type": "execute_result"
    }
   ],
   "source": [
    "final_df"
   ]
  },
  {
   "cell_type": "markdown",
   "id": "cc05fffc",
   "metadata": {},
   "source": [
    "# All in One"
   ]
  },
  {
   "cell_type": "code",
   "execution_count": 164,
   "id": "44eb0a61",
   "metadata": {},
   "outputs": [],
   "source": [
    "def main(new_data,data,model):\n",
    "    # Definition des fonction de preprocessing\n",
    "    ### CONVERSION DES CHAINES EN MINUSCULE\n",
    "    def lower_function(data):\n",
    "        i=0\n",
    "        for tweet in data:\n",
    "            data[i]=tweet.lower()\n",
    "            i+=1\n",
    "    def deEmojify(text):\n",
    "        regrex_pattern = re.compile(pattern = \"[\"\n",
    "            u\"\\U0001F600-\\U0001F64F\"  # emoticons\n",
    "            u\"\\U0001F300-\\U0001F5FF\"  # symbols & pictographs\n",
    "            u\"\\U0001F680-\\U0001F6FF\"  # transport & map symbols\n",
    "            u\"\\U0001F1E0-\\U0001F1FF\"  # flags (iOS)\n",
    "            u\"\\U00002702-\\U000027B0\"\n",
    "            u\"\\U00002702-\\U000027B0\"\n",
    "            u\"\\U000024C2-\\U0001F251\"\n",
    "            u\"\\U0001f926-\\U0001f937\"\n",
    "            u\"\\U00010000-\\U0010ffff\"\n",
    "            u\"\\u2640-\\u2642\" \n",
    "            u\"\\u2600-\\u2B55\"\n",
    "            u\"\\u200d\"\n",
    "            u\"\\u23cf\"\n",
    "            u\"\\u23e9\"\n",
    "            u\"\\u231a\"\n",
    "            u\"\\ufe0f\"  # dingbats\n",
    "            u\"\\u3030\"\n",
    "                               \"]+\", flags = re.UNICODE)\n",
    "        return regrex_pattern.sub(r'',text)\n",
    "\n",
    "\n",
    "    def strip_links(text):\n",
    "        link_regex    = re.compile('((https?):((//)|(\\\\\\\\))+([\\w\\d:#@%/;$()~_?\\+-=\\\\\\.&](#!)?)*)', re.DOTALL)\n",
    "        links         = re.findall(link_regex, text)\n",
    "        for link in links:\n",
    "            text = text.replace(link[0], ', ')\n",
    "\n",
    "        text = text.replace(\"…\",' ')\n",
    "        text = text.replace(\"’\",\" \" )\n",
    "        text = text.replace(\"'\",\" \")\n",
    "\n",
    "        return text\n",
    "\n",
    "    def strip_all_entities(text):\n",
    "        #text=re.sub('[^A-Za-z0-9]+', ' ', text)\n",
    "        entity_prefixes = ['@','#',\"_\",\"'\",\"’\"]\n",
    "        for separator in  string.punctuation:\n",
    "            if separator not in entity_prefixes :\n",
    "                text = text.replace(separator,' ')\n",
    "        words = []\n",
    "        for word in text.split():\n",
    "            word = word.strip()\n",
    "            if word:\n",
    "                if word[0] not in entity_prefixes:\n",
    "                    words.append(word)\n",
    "        return ' '.join(words)\n",
    "\n",
    "    def special_caractere_delete(data):\n",
    "        i=0\n",
    "        for tweet in data:\n",
    "            data[i] = strip_all_entities(strip_links(tweet))\n",
    "            data[i] = deEmojify(data[i])\n",
    "            #tweet_df['tweet'][i] = re.sub(r'https?://\\S+|www\\.\\S+', '', text)\n",
    "            #tweet_df['tweet'][i]=re.sub('[^A-Za-z0-9]+', ' ', tweet)\n",
    "            i+=1\n",
    "\n",
    "    def empty_word_delete(data):\n",
    "\n",
    "        i=0\n",
    "        matrix=[]\n",
    "        for tweet in data:\n",
    "            matrix.append(word_tokenize(tweet))\n",
    "\n",
    "        return matrix\n",
    "\n",
    "    def data_preprocessing(data):\n",
    "        lower_function(data)\n",
    "        special_caractere_delete(data)\n",
    "        return (data)\n",
    "\n",
    "    # Il faut enregistrer les donnée de tokenisation au préalable dans un fichier csv , et le charger avant\n",
    "    def Tokenization(data,num_word=101000):\n",
    "        tokenizer=Tokenizer(num_word,lower=True)\n",
    "        tokenizer.fit_on_texts(data)\n",
    "        return (tokenizer)\n",
    "\n",
    "\n",
    "    \n",
    "    data_preprocessing(new_data[\"Text\"])\n",
    "    tokenizer=Tokenization(data[\"text\"],num_word)\n",
    "    sequences=tokenizer.texts_to_sequences(new_data[\"Text\"])\n",
    "    sequences_pad=pad_sequences(sequences,maxlen=200,padding='post')\n",
    "    result = model.predict(sequences_pad)\n",
    "    prediction=[]\n",
    "    proba=[]\n",
    "    for pred in result:\n",
    "        for y in pred:\n",
    "            if y>0.6:\n",
    "                prediction.append(\"positif\")\n",
    "                proba.append(y)\n",
    "            elif y<0.4:\n",
    "                prediction.append(\"negatif\")\n",
    "                proba.append(y)\n",
    "            else:\n",
    "                prediction.append(\"neutre\")\n",
    "                proba.append(y)\n",
    "\n",
    "    prediction_dict={'prediction':prediction,'proba':proba}\n",
    "    prediction_df=pd.DataFrame(prediction_dict)\n",
    "\n",
    "    final_df=pd.concat([new_data,prediction_df],axis=1)\n",
    "    return(final_df)\n"
   ]
  },
  {
   "cell_type": "code",
   "execution_count": 160,
   "id": "05509f63",
   "metadata": {},
   "outputs": [],
   "source": [
    "liste={'Text':[\"Je vais te tuer, toi et toute ta famille\",\n",
    "              \"Soit tu m'envoie ce que je demande, soit je publie des photos de toi étant nue\",\n",
    "              \"Je promet de créer de la misère dans vie\",\n",
    "              \"Le jour, je te vois dans mon quartier, tu vas me connaitre\",\n",
    "               \"Salope !\",\n",
    "               \"Enfoiré, tu ferais mieux de la fermer\"\n",
    "              ]}\n",
    "\n",
    "#testy=pd.read_csv(\"scrap.csv\")"
   ]
  },
  {
   "cell_type": "code",
   "execution_count": 118,
   "id": "23f876cb",
   "metadata": {},
   "outputs": [
    {
     "data": {
      "text/plain": [
       "Index(['Text'], dtype='object')"
      ]
     },
     "execution_count": 118,
     "metadata": {},
     "output_type": "execute_result"
    }
   ],
   "source": [
    "testy.columns"
   ]
  },
  {
   "cell_type": "code",
   "execution_count": 115,
   "id": "12b83501",
   "metadata": {},
   "outputs": [
    {
     "data": {
      "text/plain": [
       "0       Arthur Banga à propos du péage de Bassam\\n\\n«...\n",
       "1      L'erreur est humaine, payez péage de Bassam là...\n",
       "2      • Cri de cœur d'un internaute résidant à Bassa...\n",
       "3      • La grogne des passagers de la ligne Abidjan-...\n",
       "4      Bilan du péage de Bassam depuis sa mise en ser...\n",
       "                             ...                        \n",
       "630                               En réponse à \\n@ocomar\n",
       "631                               En réponse à \\n@nnenna\n",
       "632    #Autoroute du nord et Bassam/Péage, pesage: L’...\n",
       "633    \"Autoroute du nord et Bassam/Péage, pesage: L’...\n",
       "634    Autoroute du nord et Bassam/Péage, pesage: L’O...\n",
       "Name: Text, Length: 635, dtype: object"
      ]
     },
     "execution_count": 115,
     "metadata": {},
     "output_type": "execute_result"
    }
   ],
   "source": [
    "testy['Text']"
   ]
  },
  {
   "cell_type": "code",
   "execution_count": 165,
   "id": "23d8bd38",
   "metadata": {},
   "outputs": [],
   "source": [
    "alli=main(new_data,data,model)"
   ]
  },
  {
   "cell_type": "code",
   "execution_count": 166,
   "id": "6cb5b1ae",
   "metadata": {
    "scrolled": true
   },
   "outputs": [
    {
     "data": {
      "text/html": [
       "<div>\n",
       "<style scoped>\n",
       "    .dataframe tbody tr th:only-of-type {\n",
       "        vertical-align: middle;\n",
       "    }\n",
       "\n",
       "    .dataframe tbody tr th {\n",
       "        vertical-align: top;\n",
       "    }\n",
       "\n",
       "    .dataframe thead th {\n",
       "        text-align: right;\n",
       "    }\n",
       "</style>\n",
       "<table border=\"1\" class=\"dataframe\">\n",
       "  <thead>\n",
       "    <tr style=\"text-align: right;\">\n",
       "      <th></th>\n",
       "      <th>Text</th>\n",
       "      <th>prediction</th>\n",
       "      <th>proba</th>\n",
       "    </tr>\n",
       "  </thead>\n",
       "  <tbody>\n",
       "    <tr>\n",
       "      <th>0</th>\n",
       "      <td>je vais te tuer toi et toute ta famille</td>\n",
       "      <td>positif</td>\n",
       "      <td>0.788445</td>\n",
       "    </tr>\n",
       "    <tr>\n",
       "      <th>1</th>\n",
       "      <td>soit tu m envoie ce que je demande soit je pub...</td>\n",
       "      <td>positif</td>\n",
       "      <td>0.610489</td>\n",
       "    </tr>\n",
       "    <tr>\n",
       "      <th>2</th>\n",
       "      <td>je promet de créer de la misère dans vie</td>\n",
       "      <td>negatif</td>\n",
       "      <td>0.288779</td>\n",
       "    </tr>\n",
       "    <tr>\n",
       "      <th>3</th>\n",
       "      <td>le jour je te vois dans mon quartier tu vas me...</td>\n",
       "      <td>negatif</td>\n",
       "      <td>0.349749</td>\n",
       "    </tr>\n",
       "  </tbody>\n",
       "</table>\n",
       "</div>"
      ],
      "text/plain": [
       "                                                Text prediction     proba\n",
       "0            je vais te tuer toi et toute ta famille    positif  0.788445\n",
       "1  soit tu m envoie ce que je demande soit je pub...    positif  0.610489\n",
       "2           je promet de créer de la misère dans vie    negatif  0.288779\n",
       "3  le jour je te vois dans mon quartier tu vas me...    negatif  0.349749"
      ]
     },
     "execution_count": 166,
     "metadata": {},
     "output_type": "execute_result"
    }
   ],
   "source": [
    "alli"
   ]
  },
  {
   "cell_type": "code",
   "execution_count": 138,
   "id": "45a81614",
   "metadata": {},
   "outputs": [
    {
     "data": {
      "text/plain": [
       "'andré silver konan raille le désert du péage de grand bassam'"
      ]
     },
     "execution_count": 138,
     "metadata": {},
     "output_type": "execute_result"
    }
   ],
   "source": [
    "alli[\"Text\"][22]"
   ]
  },
  {
   "cell_type": "code",
   "execution_count": 143,
   "id": "5b18be88",
   "metadata": {},
   "outputs": [
    {
     "data": {
      "text/plain": [
       "RangeIndex(start=0, stop=635, step=1)"
      ]
     },
     "execution_count": 143,
     "metadata": {},
     "output_type": "execute_result"
    }
   ],
   "source": [
    "alli.index"
   ]
  },
  {
   "cell_type": "code",
   "execution_count": 155,
   "id": "6b43124f",
   "metadata": {},
   "outputs": [
    {
     "data": {
      "text/plain": [
       "negatif    483\n",
       "positif     77\n",
       "neutre      75\n",
       "Name: prediction, dtype: int64"
      ]
     },
     "execution_count": 155,
     "metadata": {},
     "output_type": "execute_result"
    }
   ],
   "source": [
    "alli[\"prediction\"].value_counts()"
   ]
  },
  {
   "cell_type": "code",
   "execution_count": 156,
   "id": "577d03ee",
   "metadata": {},
   "outputs": [
    {
     "data": {
      "image/png": "[encoded data removed]",
      "text/plain": [
       "<Figure size 432x288 with 1 Axes>"
      ]
     },
     "metadata": {
      "needs_background": "light"
     },
     "output_type": "display_data"
    }
   ],
   "source": [
    "\n",
    "plt.bar(x=alli[\"prediction\"].unique(),height=alli[\"prediction\"].value_counts(),color ='green',width = 0.5)\n",
    "\n",
    "plt.xlabel(\"Sentiments\")\n",
    "plt.ylabel(\"Commentaires\")\n",
    "plt.title(\"Analyse de sentiment sur l'élection de Miss CI 2022\")\n",
    "plt.show()"
   ]
  },
  {
   "cell_type": "code",
   "execution_count": 104,
   "id": "8ced47c4",
   "metadata": {},
   "outputs": [
    {
     "ename": "ModuleNotFoundError",
     "evalue": "No module named 'seaborn'",
     "output_type": "error",
     "traceback": [
      "\u001b[1;31m---------------------------------------------------------------------------\u001b[0m",
      "\u001b[1;31mModuleNotFoundError\u001b[0m                       Traceback (most recent call last)",
      "Input \u001b[1;32mIn [104]\u001b[0m, in \u001b[0;36m<cell line: 1>\u001b[1;34m()\u001b[0m\n\u001b[1;32m----> 1\u001b[0m \u001b[38;5;28;01mimport\u001b[39;00m \u001b[38;5;21;01mseaborn\u001b[39;00m \u001b[38;5;28;01mas\u001b[39;00m \u001b[38;5;21;01msns\u001b[39;00m\n\u001b[0;32m      2\u001b[0m plt\u001b[38;5;241m.\u001b[39mfigure(figsize\u001b[38;5;241m=\u001b[39m(\u001b[38;5;241m10\u001b[39m, \u001b[38;5;241m5\u001b[39m))\n\u001b[0;32m      3\u001b[0m sns\u001b[38;5;241m.\u001b[39mcountplot(alli[\u001b[38;5;124m\"\u001b[39m\u001b[38;5;124mprediction\u001b[39m\u001b[38;5;124m\"\u001b[39m])\n",
      "\u001b[1;31mModuleNotFoundError\u001b[0m: No module named 'seaborn'"
     ]
    }
   ],
   "source": [
    "import seaborn as sns\n",
    "plt.figure(figsize=(10, 5))\n",
    "sns.countplot(alli[\"prediction\"])"
   ]
  },
  {
   "cell_type": "code",
   "execution_count": null,
   "id": "9b0287c3",
   "metadata": {},
   "outputs": [],
   "source": []
  }
 ],
 "metadata": {
  "kernelspec": {
   "display_name": "Python 3 (ipykernel)",
   "language": "python",
   "name": "python3"
  },
  "language_info": {
   "codemirror_mode": {
    "name": "ipython",
    "version": 3
   },
   "file_extension": ".py",
   "mimetype": "text/x-python",
   "name": "python",
   "nbconvert_exporter": "python",
   "pygments_lexer": "ipython3",
   "version": "3.9.12"
  }
 },
 "nbformat": 4,
 "nbformat_minor": 5
}
