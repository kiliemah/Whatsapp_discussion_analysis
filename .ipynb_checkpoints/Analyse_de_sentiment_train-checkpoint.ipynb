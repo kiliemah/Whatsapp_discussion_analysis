{
 "cells": [
  {
   "cell_type": "code",
   "execution_count": 15,
   "id": "b7fa29f6",
   "metadata": {},
   "outputs": [],
   "source": [
    "import keras\n",
    "import pandas as pd\n",
    "import numpy as np\n",
    "import matplotlib.pyplot as plt\n",
    "import copy\n",
    "import re\n",
    "import nltk\n",
    "from nltk.corpus import stopwords\n",
    "from nltk.tokenize import word_tokenize,sent_tokenize\n",
    "import string\n",
    "import warnings\n",
    "import gensim\n",
    "from gensim.models.word2vec import Word2Vec\n",
    "import os\n",
    "import sklearn\n",
    "from sklearn.model_selection import train_test_split\n",
    "from sklearn.feature_extraction.text import CountVectorizer \n",
    "from sklearn.model_selection import train_test_split\n",
    "from keras.preprocessing.text import Tokenizer\n",
    "from keras.preprocessing.sequence import pad_sequences\n",
    "\n",
    "from keras.models import Sequential \n",
    "from keras.layers import Dense, LSTM, Embedding,Bidirectional\n",
    "import tensorflow\n",
    "from tensorflow.compat.v1.keras.layers import CuDNNLSTM,CuDNNGRU\n",
    "from tensorflow.keras.layers import Dropout\n",
    "\n",
    "from tqdm.notebook import tqdm_notebook\n",
    "tqdm_notebook.pandas()\n"
   ]
  },
  {
   "cell_type": "code",
   "execution_count": 3,
   "id": "cf3bb899",
   "metadata": {},
   "outputs": [],
   "source": [
    "# Definition des fonction de preprocessing\n",
    "### CONVERSION DES CHAINES EN MINUSCULE\n",
    "def lower_function(data):\n",
    "    i=0\n",
    "    for tweet in data:\n",
    "        data[i]=tweet.lower()\n",
    "        i+=1\n",
    "def deEmojify(text):\n",
    "    regrex_pattern = re.compile(pattern = \"[\"\n",
    "        u\"\\U0001F600-\\U0001F64F\"  # emoticons\n",
    "        u\"\\U0001F300-\\U0001F5FF\"  # symbols & pictographs\n",
    "        u\"\\U0001F680-\\U0001F6FF\"  # transport & map symbols\n",
    "        u\"\\U0001F1E0-\\U0001F1FF\"  # flags (iOS)\n",
    "        u\"\\U00002702-\\U000027B0\"\n",
    "        u\"\\U00002702-\\U000027B0\"\n",
    "        u\"\\U000024C2-\\U0001F251\"\n",
    "        u\"\\U0001f926-\\U0001f937\"\n",
    "        u\"\\U00010000-\\U0010ffff\"\n",
    "        u\"\\u2640-\\u2642\" \n",
    "        u\"\\u2600-\\u2B55\"\n",
    "        u\"\\u200d\"\n",
    "        u\"\\u23cf\"\n",
    "        u\"\\u23e9\"\n",
    "        u\"\\u231a\"\n",
    "        u\"\\ufe0f\"  # dingbats\n",
    "        u\"\\u3030\"\n",
    "                           \"]+\", flags = re.UNICODE)\n",
    "    return regrex_pattern.sub(r'',text)\n",
    " \n",
    "\n",
    "def strip_links(text):\n",
    "    link_regex    = re.compile('((https?):((//)|(\\\\\\\\))+([\\w\\d:#@%/;$()~_?\\+-=\\\\\\.&](#!)?)*)', re.DOTALL)\n",
    "    links         = re.findall(link_regex, text)\n",
    "    for link in links:\n",
    "        text = text.replace(link[0], ', ')\n",
    "    \n",
    "    text = text.replace(\"…\",' ')\n",
    "    text = text.replace(\"’\",\" \" )\n",
    "    text = text.replace(\"'\",\" \")\n",
    "\n",
    "    return text\n",
    "   \n",
    "def strip_all_entities(text):\n",
    "    #text=re.sub('[^A-Za-z0-9]+', ' ', text)\n",
    "    entity_prefixes = ['@','#',\"_\",\"'\",\"’\"]\n",
    "    for separator in  string.punctuation:\n",
    "        if separator not in entity_prefixes :\n",
    "            text = text.replace(separator,' ')\n",
    "    words = []\n",
    "    for word in text.split():\n",
    "        word = word.strip()\n",
    "        if word:\n",
    "            if word[0] not in entity_prefixes:\n",
    "                words.append(word)\n",
    "    return ' '.join(words)\n",
    "\n",
    "def special_caractere_delete(data):\n",
    "    i=0\n",
    "    for tweet in data:\n",
    "        data[i] = strip_all_entities(strip_links(tweet))\n",
    "        data[i] = deEmojify(data[i])\n",
    "        #tweet_df['tweet'][i] = re.sub(r'https?://\\S+|www\\.\\S+', '', text)\n",
    "        #tweet_df['tweet'][i]=re.sub('[^A-Za-z0-9]+', ' ', tweet)\n",
    "        i+=1\n",
    "\n",
    "def empty_word_delete(data):\n",
    "    \n",
    "    i=0\n",
    "    matrix=[]\n",
    "    for tweet in data:\n",
    "        matrix.append(word_tokenize(tweet))\n",
    "        \n",
    "    return matrix\n",
    "        \n",
    "def data_preprocessing(data):\n",
    "    lower_function(data)\n",
    "    special_caractere_delete(data)\n",
    "    return (data)\n"
   ]
  },
  {
   "cell_type": "markdown",
   "id": "626b8b1f",
   "metadata": {},
   "source": [
    "# Chargement des donnée"
   ]
  },
  {
   "cell_type": "code",
   "execution_count": 3,
   "id": "229a5356",
   "metadata": {},
   "outputs": [],
   "source": [
    "data = pd.read_csv(\"french_tweets.csv\")"
   ]
  },
  {
   "cell_type": "code",
   "execution_count": 4,
   "id": "7128aa35",
   "metadata": {},
   "outputs": [],
   "source": [
    "data_copy=copy.deepcopy(data)"
   ]
  },
  {
   "cell_type": "code",
   "execution_count": 5,
   "id": "c6e793c3",
   "metadata": {},
   "outputs": [
    {
     "data": {
      "text/html": [
       "<div>\n",
       "<style scoped>\n",
       "    .dataframe tbody tr th:only-of-type {\n",
       "        vertical-align: middle;\n",
       "    }\n",
       "\n",
       "    .dataframe tbody tr th {\n",
       "        vertical-align: top;\n",
       "    }\n",
       "\n",
       "    .dataframe thead th {\n",
       "        text-align: right;\n",
       "    }\n",
       "</style>\n",
       "<table border=\"1\" class=\"dataframe\">\n",
       "  <thead>\n",
       "    <tr style=\"text-align: right;\">\n",
       "      <th></th>\n",
       "      <th>label</th>\n",
       "      <th>text</th>\n",
       "    </tr>\n",
       "  </thead>\n",
       "  <tbody>\n",
       "    <tr>\n",
       "      <th>0</th>\n",
       "      <td>0</td>\n",
       "      <td>- Awww, c'est un bummer. Tu devrais avoir davi...</td>\n",
       "    </tr>\n",
       "    <tr>\n",
       "      <th>1</th>\n",
       "      <td>0</td>\n",
       "      <td>Est contrarié qu'il ne puisse pas mettre à jou...</td>\n",
       "    </tr>\n",
       "    <tr>\n",
       "      <th>2</th>\n",
       "      <td>0</td>\n",
       "      <td>J'ai plongé plusieurs fois pour la balle. A ré...</td>\n",
       "    </tr>\n",
       "    <tr>\n",
       "      <th>3</th>\n",
       "      <td>0</td>\n",
       "      <td>Tout mon corps a des démangeaisons et comme si...</td>\n",
       "    </tr>\n",
       "    <tr>\n",
       "      <th>4</th>\n",
       "      <td>0</td>\n",
       "      <td>Non, il ne se comporte pas du tout. je suis en...</td>\n",
       "    </tr>\n",
       "    <tr>\n",
       "      <th>5</th>\n",
       "      <td>0</td>\n",
       "      <td>Pas l'équipage complet</td>\n",
       "    </tr>\n",
       "    <tr>\n",
       "      <th>6</th>\n",
       "      <td>0</td>\n",
       "      <td>besoin d'un câlin</td>\n",
       "    </tr>\n",
       "    <tr>\n",
       "      <th>7</th>\n",
       "      <td>0</td>\n",
       "      <td>Bonjour pas de vue! Oui ... pleut un peu, just...</td>\n",
       "    </tr>\n",
       "    <tr>\n",
       "      <th>8</th>\n",
       "      <td>0</td>\n",
       "      <td>Non, ils ne l'avaient pas</td>\n",
       "    </tr>\n",
       "    <tr>\n",
       "      <th>9</th>\n",
       "      <td>0</td>\n",
       "      <td>Je meurs?</td>\n",
       "    </tr>\n",
       "    <tr>\n",
       "      <th>10</th>\n",
       "      <td>0</td>\n",
       "      <td>Vacances de printemps en ville ordinaire ... i...</td>\n",
       "    </tr>\n",
       "    <tr>\n",
       "      <th>11</th>\n",
       "      <td>0</td>\n",
       "      <td>Je viens de perdre mes oreilles</td>\n",
       "    </tr>\n",
       "    <tr>\n",
       "      <th>12</th>\n",
       "      <td>0</td>\n",
       "      <td>Je ne pouvais pas supporter de le regarder. Et...</td>\n",
       "    </tr>\n",
       "    <tr>\n",
       "      <th>13</th>\n",
       "      <td>0</td>\n",
       "      <td>Ça compte, idk pourquoi je l'ai fait non plus....</td>\n",
       "    </tr>\n",
       "    <tr>\n",
       "      <th>14</th>\n",
       "      <td>0</td>\n",
       "      <td>J'aurais été le premier, mais je n'avais pas d...</td>\n",
       "    </tr>\n",
       "    <tr>\n",
       "      <th>15</th>\n",
       "      <td>0</td>\n",
       "      <td>J'aimerais que je le regarde avec vous !! Tu m...</td>\n",
       "    </tr>\n",
       "    <tr>\n",
       "      <th>16</th>\n",
       "      <td>0</td>\n",
       "      <td>La scène de la mort de Hollis va humer sévèrem...</td>\n",
       "    </tr>\n",
       "    <tr>\n",
       "      <th>17</th>\n",
       "      <td>0</td>\n",
       "      <td>Sur le point de déposer des taxes</td>\n",
       "    </tr>\n",
       "    <tr>\n",
       "      <th>18</th>\n",
       "      <td>0</td>\n",
       "      <td>Ahh ive toujours voulu voir le loyer adorer la...</td>\n",
       "    </tr>\n",
       "    <tr>\n",
       "      <th>19</th>\n",
       "      <td>0</td>\n",
       "      <td>Oh cher. Est-ce que vous buviez des boissons d...</td>\n",
       "    </tr>\n",
       "  </tbody>\n",
       "</table>\n",
       "</div>"
      ],
      "text/plain": [
       "    label                                               text\n",
       "0       0  - Awww, c'est un bummer. Tu devrais avoir davi...\n",
       "1       0  Est contrarié qu'il ne puisse pas mettre à jou...\n",
       "2       0  J'ai plongé plusieurs fois pour la balle. A ré...\n",
       "3       0  Tout mon corps a des démangeaisons et comme si...\n",
       "4       0  Non, il ne se comporte pas du tout. je suis en...\n",
       "5       0                             Pas l'équipage complet\n",
       "6       0                                  besoin d'un câlin\n",
       "7       0  Bonjour pas de vue! Oui ... pleut un peu, just...\n",
       "8       0                          Non, ils ne l'avaient pas\n",
       "9       0                                          Je meurs?\n",
       "10      0  Vacances de printemps en ville ordinaire ... i...\n",
       "11      0                    Je viens de perdre mes oreilles\n",
       "12      0  Je ne pouvais pas supporter de le regarder. Et...\n",
       "13      0  Ça compte, idk pourquoi je l'ai fait non plus....\n",
       "14      0  J'aurais été le premier, mais je n'avais pas d...\n",
       "15      0  J'aimerais que je le regarde avec vous !! Tu m...\n",
       "16      0  La scène de la mort de Hollis va humer sévèrem...\n",
       "17      0                  Sur le point de déposer des taxes\n",
       "18      0  Ahh ive toujours voulu voir le loyer adorer la...\n",
       "19      0  Oh cher. Est-ce que vous buviez des boissons d..."
      ]
     },
     "execution_count": 5,
     "metadata": {},
     "output_type": "execute_result"
    }
   ],
   "source": [
    "data_copy.head(20)"
   ]
  },
  {
   "cell_type": "code",
   "execution_count": 6,
   "id": "0db8bddc",
   "metadata": {},
   "outputs": [],
   "source": [
    "#Sépartion du jeu de donnée en 2 nouveux jeux , A et B\n",
    "A_text,B_text, A_label,B_label = train_test_split(data_copy['text'],data_copy['label'],test_size = 0.2,\n",
    "                                                  stratify = data_copy['label'],random_state = 42)"
   ]
  },
  {
   "cell_type": "code",
   "execution_count": 10,
   "id": "d9ac909a",
   "metadata": {},
   "outputs": [],
   "source": []
  },
  {
   "cell_type": "code",
   "execution_count": 7,
   "id": "a32fa120",
   "metadata": {},
   "outputs": [
    {
     "name": "stdout",
     "output_type": "stream",
     "text": [
      "(1221379, 2)\n",
      "(305345, 2)\n"
     ]
    },
    {
     "data": {
      "text/html": [
       "<div>\n",
       "<style scoped>\n",
       "    .dataframe tbody tr th:only-of-type {\n",
       "        vertical-align: middle;\n",
       "    }\n",
       "\n",
       "    .dataframe tbody tr th {\n",
       "        vertical-align: top;\n",
       "    }\n",
       "\n",
       "    .dataframe thead th {\n",
       "        text-align: right;\n",
       "    }\n",
       "</style>\n",
       "<table border=\"1\" class=\"dataframe\">\n",
       "  <thead>\n",
       "    <tr style=\"text-align: right;\">\n",
       "      <th></th>\n",
       "      <th>text</th>\n",
       "      <th>label</th>\n",
       "    </tr>\n",
       "  </thead>\n",
       "  <tbody>\n",
       "    <tr>\n",
       "      <th>1307744</th>\n",
       "      <td>Donc, si vous avez aimé, vous pouvez visiter o...</td>\n",
       "      <td>1</td>\n",
       "    </tr>\n",
       "    <tr>\n",
       "      <th>687825</th>\n",
       "      <td>En revenant du jeune camp de vie, je veux rest...</td>\n",
       "      <td>0</td>\n",
       "    </tr>\n",
       "    <tr>\n",
       "      <th>303863</th>\n",
       "      <td>Énorme combat, nous avons terminé et lt; / 3</td>\n",
       "      <td>0</td>\n",
       "    </tr>\n",
       "    <tr>\n",
       "      <th>1086104</th>\n",
       "      <td>Se préparer pour les neveux premier anniversai...</td>\n",
       "      <td>1</td>\n",
       "    </tr>\n",
       "    <tr>\n",
       "      <th>1165216</th>\n",
       "      <td>Avez-vous un myspace (pas le personnage de Car...</td>\n",
       "      <td>1</td>\n",
       "    </tr>\n",
       "    <tr>\n",
       "      <th>1038358</th>\n",
       "      <td>Rock it daisy, à quoi joue-tu? Je suis préparé...</td>\n",
       "      <td>1</td>\n",
       "    </tr>\n",
       "    <tr>\n",
       "      <th>1141970</th>\n",
       "      <td>Chillin avec stella</td>\n",
       "      <td>1</td>\n",
       "    </tr>\n",
       "    <tr>\n",
       "      <th>608110</th>\n",
       "      <td>Quelqu'un veut me conduire à ce samedi afin qu...</td>\n",
       "      <td>0</td>\n",
       "    </tr>\n",
       "    <tr>\n",
       "      <th>1484472</th>\n",
       "      <td>Il y avait une vieille femme regardant les rom...</td>\n",
       "      <td>1</td>\n",
       "    </tr>\n",
       "    <tr>\n",
       "      <th>555768</th>\n",
       "      <td>I luv dogs, mais ils seraient loués dans la vi...</td>\n",
       "      <td>0</td>\n",
       "    </tr>\n",
       "    <tr>\n",
       "      <th>1056283</th>\n",
       "      <td>Collyer je t'aime</td>\n",
       "      <td>1</td>\n",
       "    </tr>\n",
       "    <tr>\n",
       "      <th>771372</th>\n",
       "      <td>Doit être levé à 17 heures. Demain, bien, n'es...</td>\n",
       "      <td>0</td>\n",
       "    </tr>\n",
       "    <tr>\n",
       "      <th>1422726</th>\n",
       "      <td>Chez les grands-parents ayant dimanche le dima...</td>\n",
       "      <td>1</td>\n",
       "    </tr>\n",
       "    <tr>\n",
       "      <th>21108</th>\n",
       "      <td>J'ai besoin d'un autre 1000 mots puis je suis ...</td>\n",
       "      <td>0</td>\n",
       "    </tr>\n",
       "    <tr>\n",
       "      <th>414989</th>\n",
       "      <td>Les canapés de cannelle peuvent être mortels p...</td>\n",
       "      <td>0</td>\n",
       "    </tr>\n",
       "    <tr>\n",
       "      <th>163674</th>\n",
       "      <td>J'ai fait un bon mélange de rap je ne pouvais ...</td>\n",
       "      <td>0</td>\n",
       "    </tr>\n",
       "    <tr>\n",
       "      <th>336160</th>\n",
       "      <td>Anthony, j'ai dû annuler en raison de la vente...</td>\n",
       "      <td>0</td>\n",
       "    </tr>\n",
       "    <tr>\n",
       "      <th>558102</th>\n",
       "      <td>Les allergies aspirent. Désolé, il n'y avait p...</td>\n",
       "      <td>0</td>\n",
       "    </tr>\n",
       "    <tr>\n",
       "      <th>571164</th>\n",
       "      <td>Une autre nuit de sommeil. Je suis tellement f...</td>\n",
       "      <td>0</td>\n",
       "    </tr>\n",
       "    <tr>\n",
       "      <th>1166755</th>\n",
       "      <td>Je sais que je serais tellement dévoué si je d...</td>\n",
       "      <td>1</td>\n",
       "    </tr>\n",
       "  </tbody>\n",
       "</table>\n",
       "</div>"
      ],
      "text/plain": [
       "                                                      text  label\n",
       "1307744  Donc, si vous avez aimé, vous pouvez visiter o...      1\n",
       "687825   En revenant du jeune camp de vie, je veux rest...      0\n",
       "303863        Énorme combat, nous avons terminé et lt; / 3      0\n",
       "1086104  Se préparer pour les neveux premier anniversai...      1\n",
       "1165216  Avez-vous un myspace (pas le personnage de Car...      1\n",
       "1038358  Rock it daisy, à quoi joue-tu? Je suis préparé...      1\n",
       "1141970                                Chillin avec stella      1\n",
       "608110   Quelqu'un veut me conduire à ce samedi afin qu...      0\n",
       "1484472  Il y avait une vieille femme regardant les rom...      1\n",
       "555768   I luv dogs, mais ils seraient loués dans la vi...      0\n",
       "1056283                                  Collyer je t'aime      1\n",
       "771372   Doit être levé à 17 heures. Demain, bien, n'es...      0\n",
       "1422726  Chez les grands-parents ayant dimanche le dima...      1\n",
       "21108    J'ai besoin d'un autre 1000 mots puis je suis ...      0\n",
       "414989   Les canapés de cannelle peuvent être mortels p...      0\n",
       "163674   J'ai fait un bon mélange de rap je ne pouvais ...      0\n",
       "336160   Anthony, j'ai dû annuler en raison de la vente...      0\n",
       "558102   Les allergies aspirent. Désolé, il n'y avait p...      0\n",
       "571164   Une autre nuit de sommeil. Je suis tellement f...      0\n",
       "1166755  Je sais que je serais tellement dévoué si je d...      1"
      ]
     },
     "execution_count": 7,
     "metadata": {},
     "output_type": "execute_result"
    }
   ],
   "source": [
    "data_A=pd.concat([A_text,A_label], axis = 1)\n",
    "data_B=pd.concat([B_text,B_label], axis = 1)\n",
    "print(data_A.shape)\n",
    "print(data_B.shape)\n",
    "data_B.head(20)"
   ]
  },
  {
   "cell_type": "code",
   "execution_count": 8,
   "id": "4402a0e2",
   "metadata": {},
   "outputs": [],
   "source": [
    "data_B.index= range(data_B.shape[0])"
   ]
  },
  {
   "cell_type": "markdown",
   "id": "a8291a75",
   "metadata": {},
   "source": [
    "## Implementation avec tokenizer"
   ]
  },
  {
   "cell_type": "code",
   "execution_count": 22,
   "id": "f24b01eb",
   "metadata": {
    "scrolled": true
   },
   "outputs": [
    {
     "name": "stderr",
     "output_type": "stream",
     "text": [
      "C:\\Users\\ouatt\\AppData\\Local\\Temp\\ipykernel_6460\\2418176400.py:6: SettingWithCopyWarning: \n",
      "A value is trying to be set on a copy of a slice from a DataFrame\n",
      "\n",
      "See the caveats in the documentation: https://pandas.pydata.org/pandas-docs/stable/user_guide/indexing.html#returning-a-view-versus-a-copy\n",
      "  data[i]=tweet.lower()\n",
      "C:\\Users\\ouatt\\AppData\\Local\\Temp\\ipykernel_6460\\2418176400.py:60: SettingWithCopyWarning: \n",
      "A value is trying to be set on a copy of a slice from a DataFrame\n",
      "\n",
      "See the caveats in the documentation: https://pandas.pydata.org/pandas-docs/stable/user_guide/indexing.html#returning-a-view-versus-a-copy\n",
      "  data[i] = strip_all_entities(strip_links(tweet))\n",
      "C:\\Users\\ouatt\\AppData\\Local\\Temp\\ipykernel_6460\\2418176400.py:61: SettingWithCopyWarning: \n",
      "A value is trying to be set on a copy of a slice from a DataFrame\n",
      "\n",
      "See the caveats in the documentation: https://pandas.pydata.org/pandas-docs/stable/user_guide/indexing.html#returning-a-view-versus-a-copy\n",
      "  data[i] = deEmojify(data[i])\n"
     ]
    },
    {
     "data": {
      "text/plain": [
       "0         donc si vous avez aimé vous pouvez visiter ou ...\n",
       "1         en revenant du jeune camp de vie je veux reste...\n",
       "2                  énorme combat nous avons terminé et lt 3\n",
       "3         se préparer pour les neveux premier anniversai...\n",
       "4         avez vous un myspace pas le personnage de carl...\n",
       "                                ...                        \n",
       "305340     ne recevaient ils pas ce dont ils avaient besoin\n",
       "305341    mon cantaloup est malade et je suis presque sa...\n",
       "305342    je ne peux pas croire que le week end soit pre...\n",
       "305343                    haha oui en effet may purk ka rin\n",
       "305344    se réveiller pour les commentaires est génial ...\n",
       "Name: text, Length: 305345, dtype: object"
      ]
     },
     "execution_count": 22,
     "metadata": {},
     "output_type": "execute_result"
    }
   ],
   "source": [
    "data_preprocessing(data_B['text'])"
   ]
  },
  {
   "cell_type": "markdown",
   "id": "009196f2",
   "metadata": {},
   "source": [
    "## Chargement des donnée préprocessed"
   ]
  },
  {
   "cell_type": "code",
   "execution_count": 4,
   "id": "b5cccf80",
   "metadata": {},
   "outputs": [],
   "source": [
    "def load_train_data():\n",
    "    data=pd.read_csv(\"All_train_preprocessed.csv\")\n",
    "    data=data.drop([\"Unnamed: 0\"],axis=1)\n",
    "    data[\"text\"]=data[\"text\"].astype(\"str\")\n",
    "    return(data)\n",
    "    "
   ]
  },
  {
   "cell_type": "code",
   "execution_count": 5,
   "id": "b324a551",
   "metadata": {},
   "outputs": [],
   "source": [
    "data_B=load_train_data()"
   ]
  },
  {
   "cell_type": "code",
   "execution_count": 6,
   "id": "b5419e8f",
   "metadata": {},
   "outputs": [],
   "source": [
    "X_train,X_test, y_train,y_test = train_test_split(data_B['text'],data_B['label'],test_size = 0.3,\n",
    "                                                  stratify = data_B['label'],random_state = 42)"
   ]
  },
  {
   "cell_type": "code",
   "execution_count": 7,
   "id": "e43c9df2",
   "metadata": {},
   "outputs": [],
   "source": [
    "num_words = 101000 # this means 15000 unique words can be taken \n",
    "tokenizer=Tokenizer(num_words,lower=True)\n",
    "df_total = pd.concat([X_train, X_test], axis = 0)\n",
    "tokenizer.fit_on_texts(df_total)"
   ]
  },
  {
   "cell_type": "code",
   "execution_count": 8,
   "id": "498d31ab",
   "metadata": {},
   "outputs": [
    {
     "data": {
      "text/plain": [
       "100561"
      ]
     },
     "execution_count": 8,
     "metadata": {},
     "output_type": "execute_result"
    }
   ],
   "source": [
    "len(tokenizer.word_index) "
   ]
  },
  {
   "cell_type": "code",
   "execution_count": 9,
   "id": "af0acdd4",
   "metadata": {},
   "outputs": [],
   "source": [
    "X_train_ =tokenizer.texts_to_sequences(X_train)\n",
    "X_train_pad=pad_sequences(X_train_,maxlen=200,padding='post')\n",
    "X_test_ = tokenizer.texts_to_sequences(X_test)\n",
    "X_test_pad = pad_sequences(X_test_, maxlen = 200, padding = 'post')"
   ]
  },
  {
   "cell_type": "code",
   "execution_count": 63,
   "id": "f4c38ef9",
   "metadata": {},
   "outputs": [
    {
     "name": "stdout",
     "output_type": "stream",
     "text": [
      "(213741, 200) (91604, 200)\n"
     ]
    }
   ],
   "source": [
    "print(X_train_pad.shape,X_test_pad.shape)"
   ]
  },
  {
   "cell_type": "code",
   "execution_count": 10,
   "id": "f6b7ac8a",
   "metadata": {},
   "outputs": [],
   "source": [
    "EMBEDDING_DIM = 100 # this means the embedding layer will create  a vector in 100 dimension\n",
    "model = Sequential()\n",
    "model.add(Embedding(input_dim = num_words,# the whole vocabulary size \n",
    "                          output_dim = EMBEDDING_DIM, # vector space dimension\n",
    "                          input_length= X_train_pad.shape[1] # max_len of text sequence\n",
    "                          ))\n",
    "model.add(Dropout(0.2))\n",
    "model.add(Bidirectional(LSTM(100, return_sequences=True)))\n",
    "model.add(Dropout(0.2))\n",
    "model.add(Bidirectional(LSTM(100, return_sequences=True)))\n",
    "model.add(Dropout(0.2))\n",
    "model.add(Bidirectional(LSTM(100, return_sequences=False)))\n",
    "model.add(Dense(1, activation = 'sigmoid'))\n",
    "model.compile(loss = 'binary_crossentropy', optimizer = 'adam',metrics = 'accuracy')"
   ]
  },
  {
   "cell_type": "code",
   "execution_count": 11,
   "id": "7f613a82",
   "metadata": {},
   "outputs": [],
   "source": [
    "from keras.callbacks import EarlyStopping, ModelCheckpoint\n",
    "\n",
    "\n",
    "es = EarlyStopping(monitor = 'val_loss', mode = 'min', verbose = 1, patience = 10)\n",
    "mc = ModelCheckpoint('./model.h5', monitor = 'val_accuracy', mode = 'max', verbose = 1, save_best_only = True)"
   ]
  },
  {
   "cell_type": "code",
   "execution_count": 38,
   "id": "aa69e061",
   "metadata": {},
   "outputs": [
    {
     "data": {
      "text/plain": [
       "[]"
      ]
     },
     "execution_count": 38,
     "metadata": {},
     "output_type": "execute_result"
    }
   ],
   "source": [
    "tensorflow.config.list_physical_devices('GPU')"
   ]
  },
  {
   "cell_type": "code",
   "execution_count": 12,
   "id": "8768d682",
   "metadata": {
    "scrolled": true
   },
   "outputs": [
    {
     "name": "stdout",
     "output_type": "stream",
     "text": [
      "Epoch 1/5\n",
      "1069/1069 [==============================] - 3574s 3s/step - loss: 0.4880 - accuracy: 0.7638 - val_loss: 0.4537 - val_accuracy: 0.7867\n",
      "\n",
      "Epoch 00001: val_accuracy improved from -inf to 0.78666, saving model to .\\model.h5\n",
      "Epoch 2/5\n",
      "1069/1069 [==============================] - 3184s 3s/step - loss: 0.3934 - accuracy: 0.8223 - val_loss: 0.4516 - val_accuracy: 0.7884\n",
      "\n",
      "Epoch 00002: val_accuracy improved from 0.78666 to 0.78837, saving model to .\\model.h5\n",
      "Epoch 3/5\n",
      "1069/1069 [==============================] - 3418s 3s/step - loss: 0.3313 - accuracy: 0.8562 - val_loss: 0.4723 - val_accuracy: 0.7848\n",
      "\n",
      "Epoch 00003: val_accuracy did not improve from 0.78837\n",
      "Epoch 4/5\n",
      "1069/1069 [==============================] - 3482s 3s/step - loss: 0.2793 - accuracy: 0.8819 - val_loss: 0.5367 - val_accuracy: 0.7732\n",
      "\n",
      "Epoch 00004: val_accuracy did not improve from 0.78837\n",
      "Epoch 5/5\n",
      "1069/1069 [==============================] - 3468s 3s/step - loss: 0.2373 - accuracy: 0.9007 - val_loss: 0.5858 - val_accuracy: 0.7765\n",
      "\n",
      "Epoch 00005: val_accuracy did not improve from 0.78837\n"
     ]
    }
   ],
   "source": [
    "\n",
    "history_embedding = model.fit(X_train_pad,y_train, epochs = 5, batch_size = 200, validation_data=(X_test_pad, y_test),verbose = 1, callbacks= [es, mc]  )"
   ]
  },
  {
   "cell_type": "code",
   "execution_count": 16,
   "id": "fe23af58",
   "metadata": {},
   "outputs": [
    {
     "data": {
      "image/png": "[encoded data removed]",
      "text/plain": [
       "<Figure size 432x288 with 1 Axes>"
      ]
     },
     "metadata": {
      "needs_background": "light"
     },
     "output_type": "display_data"
    }
   ],
   "source": [
    "plt.plot(history_embedding.history['accuracy'],c='b',label='train accuracy')\n",
    "plt.plot(history_embedding.history['val_accuracy'],c='r',label='validation accuracy')\n",
    "plt.legend(loc='lower right')\n",
    "plt.show()"
   ]
  },
  {
   "cell_type": "markdown",
   "id": "9db6be13",
   "metadata": {},
   "source": [
    "## Implementation avec Word2vec"
   ]
  },
  {
   "cell_type": "code",
   "execution_count": null,
   "id": "599a8135",
   "metadata": {},
   "outputs": [],
   "source": []
  },
  {
   "cell_type": "code",
   "execution_count": null,
   "id": "d2e9c312",
   "metadata": {
    "scrolled": true
   },
   "outputs": [
    {
     "name": "stderr",
     "output_type": "stream",
     "text": [
      "C:\\Users\\ouatt\\AppData\\Local\\Temp\\ipykernel_9940\\3112788267.py:6: SettingWithCopyWarning: \n",
      "A value is trying to be set on a copy of a slice from a DataFrame\n",
      "\n",
      "See the caveats in the documentation: https://pandas.pydata.org/pandas-docs/stable/user_guide/indexing.html#returning-a-view-versus-a-copy\n",
      "  data[i]=tweet.lower()\n"
     ]
    }
   ],
   "source": [
    "data_preprocessing(data['text'])\n"
   ]
  },
  {
   "cell_type": "code",
   "execution_count": 34,
   "id": "25b59972",
   "metadata": {},
   "outputs": [],
   "source": [
    "data_token = empty_word_delete(data['text']) #Tokenisation des tweet"
   ]
  },
  {
   "cell_type": "code",
   "execution_count": 48,
   "id": "c77b7270",
   "metadata": {},
   "outputs": [],
   "source": [
    "# Word2vec : Transformation des tokens en vecteur de de longueur 100\n",
    "\n",
    "w2v_model = gensim.models.Word2Vec(data_token, min_count = 1,workers=3, window = 5,sg = 1, vector_size=100)"
   ]
  },
  {
   "cell_type": "code",
   "execution_count": 49,
   "id": "567fa307",
   "metadata": {},
   "outputs": [],
   "source": [
    "vocab_len = len(w2v_model.wv)"
   ]
  },
  {
   "cell_type": "code",
   "execution_count": null,
   "id": "c60b5241",
   "metadata": {},
   "outputs": [],
   "source": []
  },
  {
   "cell_type": "code",
   "execution_count": 50,
   "id": "c4f42d2f",
   "metadata": {},
   "outputs": [
    {
     "name": "stdout",
     "output_type": "stream",
     "text": [
      "357975\n"
     ]
    }
   ],
   "source": [
    "print(vocab_len)"
   ]
  },
  {
   "cell_type": "code",
   "execution_count": 51,
   "id": "c21eed62",
   "metadata": {},
   "outputs": [],
   "source": [
    "all_normed_vectors = w2v_model.wv.get_normed_vectors()"
   ]
  },
  {
   "cell_type": "code",
   "execution_count": 52,
   "id": "4e832f57",
   "metadata": {},
   "outputs": [
    {
     "data": {
      "text/plain": [
       "(357975, 100)"
      ]
     },
     "execution_count": 52,
     "metadata": {},
     "output_type": "execute_result"
    }
   ],
   "source": [
    "all_normed_vectors.shape"
   ]
  },
  {
   "cell_type": "code",
   "execution_count": 53,
   "id": "78874fa3",
   "metadata": {},
   "outputs": [],
   "source": [
    "# Association de chaque mot as son vecteur\n",
    "vector_size = 100\n",
    "gensim_weight_matrix = np.zeros((num_words ,vector_size))\n",
    "gensim_weight_matrix.shape\n",
    "\n",
    "for word, index in tokenizer.word_index.items():\n",
    "    if index < num_words: # since index starts with zero \n",
    "        if word in w2v_model.wv:\n",
    "            gensim_weight_matrix[index] = w2v_model.wv.key_to_index[word]\n",
    "        else:\n",
    "            gensim_weight_matrix[index] = np.zeros(100)"
   ]
  },
  {
   "cell_type": "code",
   "execution_count": 54,
   "id": "013107ec",
   "metadata": {},
   "outputs": [],
   "source": [
    "EMBEDDING_DIM = 100 # this means the embedding layer will create  a vector in 100 dimension\n",
    "model_gensim = Sequential()\n",
    "model_gensim.add(Embedding(input_dim = num_words,# the whole vocabulary size \n",
    "                          output_dim = EMBEDDING_DIM, # vector space dimension\n",
    "                          input_length= X_train_pad.shape[1], # max_len of text sequence\n",
    "                          weights = [gensim_weight_matrix],trainable = False))\n",
    "model_gensim.add(Dropout(0.2))\n",
    "model_gensim.add(Bidirectional(LSTM(100, return_sequences=True)))\n",
    "model_gensim.add(Dropout(0.2))\n",
    "model_gensim.add(Bidirectional(LSTM(100, return_sequences=True)))\n",
    "model_gensim.add(Dropout(0.2))\n",
    "model_gensim.add(Bidirectional(LSTM(100, return_sequences=False)))\n",
    "model_gensim.add(Dense(1, activation = 'sigmoid'))\n",
    "model_gensim.compile(loss = 'binary_crossentropy', optimizer = 'adam',metrics = 'accuracy')"
   ]
  },
  {
   "cell_type": "code",
   "execution_count": 56,
   "id": "e67831e9",
   "metadata": {
    "scrolled": true
   },
   "outputs": [
    {
     "name": "stdout",
     "output_type": "stream",
     "text": [
      "Epoch 1/15\n",
      "357/357 [==============================] - 662s 2s/step - loss: 0.6901 - accuracy: 0.5315 - val_loss: 0.6893 - val_accuracy: 0.5351\n",
      "\n",
      "Epoch 00001: val_accuracy improved from -inf to 0.53507, saving model to .\\model_gensim.h5\n",
      "Epoch 2/15\n",
      "357/357 [==============================] - 639s 2s/step - loss: 0.6889 - accuracy: 0.5384 - val_loss: 0.6879 - val_accuracy: 0.5449\n",
      "\n",
      "Epoch 00002: val_accuracy improved from 0.53507 to 0.54495, saving model to .\\model_gensim.h5\n",
      "Epoch 3/15\n",
      "357/357 [==============================] - 640s 2s/step - loss: 0.6867 - accuracy: 0.5457 - val_loss: 0.6869 - val_accuracy: 0.5448\n",
      "\n",
      "Epoch 00003: val_accuracy did not improve from 0.54495\n",
      "Epoch 4/15\n",
      "357/357 [==============================] - 643s 2s/step - loss: 0.6863 - accuracy: 0.5444 - val_loss: 0.6859 - val_accuracy: 0.5492\n",
      "\n",
      "Epoch 00004: val_accuracy improved from 0.54495 to 0.54915, saving model to .\\model_gensim.h5\n",
      "Epoch 5/15\n",
      "357/357 [==============================] - 646s 2s/step - loss: 0.6857 - accuracy: 0.5488 - val_loss: 0.6854 - val_accuracy: 0.5526\n",
      "\n",
      "Epoch 00005: val_accuracy improved from 0.54915 to 0.55264, saving model to .\\model_gensim.h5\n",
      "Epoch 6/15\n",
      "357/357 [==============================] - 642s 2s/step - loss: 0.6853 - accuracy: 0.5483 - val_loss: 0.6857 - val_accuracy: 0.5513\n",
      "\n",
      "Epoch 00006: val_accuracy did not improve from 0.55264\n",
      "Epoch 7/15\n",
      "357/357 [==============================] - 645s 2s/step - loss: 0.6855 - accuracy: 0.5489 - val_loss: 0.6851 - val_accuracy: 0.5529\n",
      "\n",
      "Epoch 00007: val_accuracy improved from 0.55264 to 0.55292, saving model to .\\model_gensim.h5\n",
      "Epoch 8/15\n",
      "357/357 [==============================] - 645s 2s/step - loss: 0.6852 - accuracy: 0.5486 - val_loss: 0.6851 - val_accuracy: 0.5522\n",
      "\n",
      "Epoch 00008: val_accuracy did not improve from 0.55292\n",
      "Epoch 9/15\n",
      "357/357 [==============================] - 644s 2s/step - loss: 0.6845 - accuracy: 0.5508 - val_loss: 0.6845 - val_accuracy: 0.5591\n",
      "\n",
      "Epoch 00009: val_accuracy improved from 0.55292 to 0.55909, saving model to .\\model_gensim.h5\n",
      "Epoch 10/15\n",
      "357/357 [==============================] - 645s 2s/step - loss: 0.6843 - accuracy: 0.5533 - val_loss: 0.6833 - val_accuracy: 0.5610\n",
      "\n",
      "Epoch 00010: val_accuracy improved from 0.55909 to 0.56100, saving model to .\\model_gensim.h5\n",
      "Epoch 11/15\n",
      "357/357 [==============================] - 645s 2s/step - loss: 0.6843 - accuracy: 0.5525 - val_loss: 0.6838 - val_accuracy: 0.5524\n",
      "\n",
      "Epoch 00011: val_accuracy did not improve from 0.56100\n",
      "Epoch 12/15\n",
      "357/357 [==============================] - 645s 2s/step - loss: 0.6838 - accuracy: 0.5554 - val_loss: 0.6825 - val_accuracy: 0.5609\n",
      "\n",
      "Epoch 00012: val_accuracy did not improve from 0.56100\n",
      "Epoch 13/15\n",
      "357/357 [==============================] - 655s 2s/step - loss: 0.6836 - accuracy: 0.5552 - val_loss: 0.6830 - val_accuracy: 0.5575\n",
      "\n",
      "Epoch 00013: val_accuracy did not improve from 0.56100\n",
      "Epoch 14/15\n",
      "357/357 [==============================] - 645s 2s/step - loss: 0.6836 - accuracy: 0.5543 - val_loss: 0.6828 - val_accuracy: 0.5590\n",
      "\n",
      "Epoch 00014: val_accuracy did not improve from 0.56100\n",
      "Epoch 15/15\n",
      "357/357 [==============================] - 644s 2s/step - loss: 0.6832 - accuracy: 0.5567 - val_loss: 0.6825 - val_accuracy: 0.5597\n",
      "\n",
      "Epoch 00015: val_accuracy did not improve from 0.56100\n"
     ]
    }
   ],
   "source": [
    "from keras.callbacks import EarlyStopping, ModelCheckpoint\n",
    "\n",
    "\n",
    "es = EarlyStopping(monitor = 'val_loss', mode = 'min', verbose = 1, patience = 5)\n",
    "mc = ModelCheckpoint('./model_gensim.h5', monitor = 'val_accuracy', mode = 'max', verbose = 1, save_best_only = True)\n",
    "history_gensim = model_gensim.fit(X_train_pad,y_train, epochs = 15, batch_size = 120, validation_data=(X_test_pad, y_test),verbose = 1, callbacks= [es, mc]  )"
   ]
  },
  {
   "cell_type": "markdown",
   "id": "4abc2007",
   "metadata": {},
   "source": [
    "## Evaluation sur de nouvelles données"
   ]
  },
  {
   "cell_type": "code",
   "execution_count": 62,
   "id": "d15b964b",
   "metadata": {},
   "outputs": [
    {
     "name": "stdout",
     "output_type": "stream",
     "text": [
      "573/573 [==============================] - 100s 174ms/step - loss: 0.6825 - accuracy: 0.5597\n"
     ]
    },
    {
     "data": {
      "text/plain": [
       "[0.6824706196784973, 0.5597401857376099]"
      ]
     },
     "execution_count": 62,
     "metadata": {},
     "output_type": "execute_result"
    }
   ],
   "source": [
    "model_gensim.evaluate(X_test_pad, y_test) "
   ]
  },
  {
   "cell_type": "code",
   "execution_count": 17,
   "id": "78449310",
   "metadata": {},
   "outputs": [
    {
     "name": "stdout",
     "output_type": "stream",
     "text": [
      "2863/2863 [==============================] - 527s 184ms/step - loss: 0.5858 - accuracy: 0.7765\n"
     ]
    },
    {
     "data": {
      "text/plain": [
       "[0.5857546925544739, 0.7764945030212402]"
      ]
     },
     "execution_count": 17,
     "metadata": {},
     "output_type": "execute_result"
    }
   ],
   "source": [
    "model.evaluate(X_test_pad, y_test) "
   ]
  },
  {
   "cell_type": "code",
   "execution_count": 124,
   "id": "e302c6e1",
   "metadata": {},
   "outputs": [],
   "source": [
    "liste={'text':[\" Le 3 point de Zouzoua ? Franchement hein, j'ai sauté de ma chaise tellement j'était content\"]}\n",
    "liste_df=pd.DataFrame(data=liste)\n",
    "data_preprocessing(liste_df[\"text\"])\n",
    "\n",
    "liste_=tokenizer.texts_to_sequences(liste_df[\"text\"])\n",
    "liste_pad=pad_sequences(liste_,maxlen=200,padding='post')\n"
   ]
  },
  {
   "cell_type": "code",
   "execution_count": 125,
   "id": "4f3758f5",
   "metadata": {},
   "outputs": [
    {
     "data": {
      "text/plain": [
       "array([[0.9965557]], dtype=float32)"
      ]
     },
     "execution_count": 125,
     "metadata": {},
     "output_type": "execute_result"
    }
   ],
   "source": [
    "model.predict(liste_pad)"
   ]
  },
  {
   "cell_type": "code",
   "execution_count": 126,
   "id": "9bb6f38a",
   "metadata": {},
   "outputs": [
    {
     "data": {
      "text/plain": [
       "array([[0.4333696]], dtype=float32)"
      ]
     },
     "execution_count": 126,
     "metadata": {},
     "output_type": "execute_result"
    }
   ],
   "source": [
    "model_gensim.predict(liste_pad)"
   ]
  },
  {
   "cell_type": "code",
   "execution_count": 18,
   "id": "e34eb4f1",
   "metadata": {},
   "outputs": [
    {
     "name": "stdout",
     "output_type": "stream",
     "text": [
      "              precision    recall  f1-score   support\n",
      "\n",
      "           0       0.77      0.79      0.78     45115\n",
      "           1       0.79      0.77      0.78     46489\n",
      "\n",
      "    accuracy                           0.78     91604\n",
      "   macro avg       0.78      0.78      0.78     91604\n",
      "weighted avg       0.78      0.78      0.78     91604\n",
      "\n"
     ]
    }
   ],
   "source": [
    "y_pred = np.where(model.predict(X_test_pad)>.5,1,0)\n",
    "from sklearn import metrics\n",
    "print(metrics.classification_report(y_pred, y_test))"
   ]
  },
  {
   "cell_type": "code",
   "execution_count": null,
   "id": "4fac51f0",
   "metadata": {},
   "outputs": [],
   "source": []
  }
 ],
 "metadata": {
  "kernelspec": {
   "display_name": "Python 3 (ipykernel)",
   "language": "python",
   "name": "python3"
  },
  "language_info": {
   "codemirror_mode": {
    "name": "ipython",
    "version": 3
   },
   "file_extension": ".py",
   "mimetype": "text/x-python",
   "name": "python",
   "nbconvert_exporter": "python",
   "pygments_lexer": "ipython3",
   "version": "3.9.12"
  }
 },
 "nbformat": 4,
 "nbformat_minor": 5
}
